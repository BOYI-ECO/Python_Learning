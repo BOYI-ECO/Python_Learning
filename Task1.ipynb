{
 "cells": [
  {
   "cell_type": "code",
   "execution_count": 1,
   "metadata": {
    "collapsed": true
   },
   "outputs": [],
   "source": [
    "import numpy as np\n",
    "import matplotlib.pyplot as plt\n",
    "import datetime\n",
    "%matplotlib inline"
   ]
  },
  {
   "cell_type": "markdown",
   "metadata": {},
   "source": [
    "### 用pandas读取csv的全部信息，对该csv有大致的把握"
   ]
  },
  {
   "cell_type": "code",
   "execution_count": 2,
   "metadata": {
    "scrolled": true
   },
   "outputs": [
    {
     "data": {
      "text/html": [
       "<div>\n",
       "<style>\n",
       "    .dataframe thead tr:only-child th {\n",
       "        text-align: right;\n",
       "    }\n",
       "\n",
       "    .dataframe thead th {\n",
       "        text-align: left;\n",
       "    }\n",
       "\n",
       "    .dataframe tbody tr th {\n",
       "        vertical-align: top;\n",
       "    }\n",
       "</style>\n",
       "<table border=\"1\" class=\"dataframe\">\n",
       "  <thead>\n",
       "    <tr style=\"text-align: right;\">\n",
       "      <th></th>\n",
       "      <th>name</th>\n",
       "      <th>date</th>\n",
       "      <th></th>\n",
       "      <th>start</th>\n",
       "      <th>max</th>\n",
       "      <th>min</th>\n",
       "      <th>end</th>\n",
       "      <th>turnover</th>\n",
       "    </tr>\n",
       "  </thead>\n",
       "  <tbody>\n",
       "    <tr>\n",
       "      <th>0</th>\n",
       "      <td>AAPL</td>\n",
       "      <td>28-01-2011</td>\n",
       "      <td></td>\n",
       "      <td>344.17</td>\n",
       "      <td>344.40</td>\n",
       "      <td>333.53</td>\n",
       "      <td>336.10</td>\n",
       "      <td>21144800</td>\n",
       "    </tr>\n",
       "    <tr>\n",
       "      <th>1</th>\n",
       "      <td>AAPL</td>\n",
       "      <td>31-01-2011</td>\n",
       "      <td></td>\n",
       "      <td>335.80</td>\n",
       "      <td>340.04</td>\n",
       "      <td>334.30</td>\n",
       "      <td>339.32</td>\n",
       "      <td>13473000</td>\n",
       "    </tr>\n",
       "    <tr>\n",
       "      <th>2</th>\n",
       "      <td>AAPL</td>\n",
       "      <td>01-02-2011</td>\n",
       "      <td></td>\n",
       "      <td>341.30</td>\n",
       "      <td>345.65</td>\n",
       "      <td>340.98</td>\n",
       "      <td>345.03</td>\n",
       "      <td>15236800</td>\n",
       "    </tr>\n",
       "    <tr>\n",
       "      <th>3</th>\n",
       "      <td>AAPL</td>\n",
       "      <td>02-02-2011</td>\n",
       "      <td></td>\n",
       "      <td>344.45</td>\n",
       "      <td>345.25</td>\n",
       "      <td>343.55</td>\n",
       "      <td>344.32</td>\n",
       "      <td>9242600</td>\n",
       "    </tr>\n",
       "    <tr>\n",
       "      <th>4</th>\n",
       "      <td>AAPL</td>\n",
       "      <td>03-02-2011</td>\n",
       "      <td></td>\n",
       "      <td>343.80</td>\n",
       "      <td>344.24</td>\n",
       "      <td>338.55</td>\n",
       "      <td>343.44</td>\n",
       "      <td>14064100</td>\n",
       "    </tr>\n",
       "    <tr>\n",
       "      <th>5</th>\n",
       "      <td>AAPL</td>\n",
       "      <td>04-02-2011</td>\n",
       "      <td></td>\n",
       "      <td>343.61</td>\n",
       "      <td>346.70</td>\n",
       "      <td>343.51</td>\n",
       "      <td>346.50</td>\n",
       "      <td>11494200</td>\n",
       "    </tr>\n",
       "    <tr>\n",
       "      <th>6</th>\n",
       "      <td>AAPL</td>\n",
       "      <td>07-02-2011</td>\n",
       "      <td></td>\n",
       "      <td>347.89</td>\n",
       "      <td>353.25</td>\n",
       "      <td>347.64</td>\n",
       "      <td>351.88</td>\n",
       "      <td>17322100</td>\n",
       "    </tr>\n",
       "    <tr>\n",
       "      <th>7</th>\n",
       "      <td>AAPL</td>\n",
       "      <td>08-02-2011</td>\n",
       "      <td></td>\n",
       "      <td>353.68</td>\n",
       "      <td>355.52</td>\n",
       "      <td>352.15</td>\n",
       "      <td>355.20</td>\n",
       "      <td>13608500</td>\n",
       "    </tr>\n",
       "    <tr>\n",
       "      <th>8</th>\n",
       "      <td>AAPL</td>\n",
       "      <td>09-02-2011</td>\n",
       "      <td></td>\n",
       "      <td>355.19</td>\n",
       "      <td>359.00</td>\n",
       "      <td>354.87</td>\n",
       "      <td>358.16</td>\n",
       "      <td>17240800</td>\n",
       "    </tr>\n",
       "    <tr>\n",
       "      <th>9</th>\n",
       "      <td>AAPL</td>\n",
       "      <td>10-02-2011</td>\n",
       "      <td></td>\n",
       "      <td>357.39</td>\n",
       "      <td>360.00</td>\n",
       "      <td>348.00</td>\n",
       "      <td>354.54</td>\n",
       "      <td>33162400</td>\n",
       "    </tr>\n",
       "    <tr>\n",
       "      <th>10</th>\n",
       "      <td>AAPL</td>\n",
       "      <td>11-02-2011</td>\n",
       "      <td></td>\n",
       "      <td>354.75</td>\n",
       "      <td>357.80</td>\n",
       "      <td>353.54</td>\n",
       "      <td>356.85</td>\n",
       "      <td>13127500</td>\n",
       "    </tr>\n",
       "    <tr>\n",
       "      <th>11</th>\n",
       "      <td>AAPL</td>\n",
       "      <td>14-02-2011</td>\n",
       "      <td></td>\n",
       "      <td>356.79</td>\n",
       "      <td>359.48</td>\n",
       "      <td>356.71</td>\n",
       "      <td>359.18</td>\n",
       "      <td>11086200</td>\n",
       "    </tr>\n",
       "    <tr>\n",
       "      <th>12</th>\n",
       "      <td>AAPL</td>\n",
       "      <td>15-02-2011</td>\n",
       "      <td></td>\n",
       "      <td>359.19</td>\n",
       "      <td>359.97</td>\n",
       "      <td>357.55</td>\n",
       "      <td>359.90</td>\n",
       "      <td>10149000</td>\n",
       "    </tr>\n",
       "    <tr>\n",
       "      <th>13</th>\n",
       "      <td>AAPL</td>\n",
       "      <td>16-02-2011</td>\n",
       "      <td></td>\n",
       "      <td>360.80</td>\n",
       "      <td>364.90</td>\n",
       "      <td>360.50</td>\n",
       "      <td>363.13</td>\n",
       "      <td>17184100</td>\n",
       "    </tr>\n",
       "    <tr>\n",
       "      <th>14</th>\n",
       "      <td>AAPL</td>\n",
       "      <td>17-02-2011</td>\n",
       "      <td></td>\n",
       "      <td>357.10</td>\n",
       "      <td>360.27</td>\n",
       "      <td>356.52</td>\n",
       "      <td>358.30</td>\n",
       "      <td>18949000</td>\n",
       "    </tr>\n",
       "    <tr>\n",
       "      <th>15</th>\n",
       "      <td>AAPL</td>\n",
       "      <td>18-02-2011</td>\n",
       "      <td></td>\n",
       "      <td>358.21</td>\n",
       "      <td>359.50</td>\n",
       "      <td>349.52</td>\n",
       "      <td>350.56</td>\n",
       "      <td>29144500</td>\n",
       "    </tr>\n",
       "    <tr>\n",
       "      <th>16</th>\n",
       "      <td>AAPL</td>\n",
       "      <td>22-02-2011</td>\n",
       "      <td></td>\n",
       "      <td>342.05</td>\n",
       "      <td>345.40</td>\n",
       "      <td>337.72</td>\n",
       "      <td>338.61</td>\n",
       "      <td>31162200</td>\n",
       "    </tr>\n",
       "    <tr>\n",
       "      <th>17</th>\n",
       "      <td>AAPL</td>\n",
       "      <td>23-02-2011</td>\n",
       "      <td></td>\n",
       "      <td>338.77</td>\n",
       "      <td>344.64</td>\n",
       "      <td>338.61</td>\n",
       "      <td>342.62</td>\n",
       "      <td>23994700</td>\n",
       "    </tr>\n",
       "    <tr>\n",
       "      <th>18</th>\n",
       "      <td>AAPL</td>\n",
       "      <td>24-02-2011</td>\n",
       "      <td></td>\n",
       "      <td>344.02</td>\n",
       "      <td>345.15</td>\n",
       "      <td>338.37</td>\n",
       "      <td>342.88</td>\n",
       "      <td>17853500</td>\n",
       "    </tr>\n",
       "    <tr>\n",
       "      <th>19</th>\n",
       "      <td>AAPL</td>\n",
       "      <td>25-02-2011</td>\n",
       "      <td></td>\n",
       "      <td>345.29</td>\n",
       "      <td>348.43</td>\n",
       "      <td>344.80</td>\n",
       "      <td>348.16</td>\n",
       "      <td>13572000</td>\n",
       "    </tr>\n",
       "    <tr>\n",
       "      <th>20</th>\n",
       "      <td>AAPL</td>\n",
       "      <td>28-02-2011</td>\n",
       "      <td></td>\n",
       "      <td>351.21</td>\n",
       "      <td>355.05</td>\n",
       "      <td>351.12</td>\n",
       "      <td>353.21</td>\n",
       "      <td>14395400</td>\n",
       "    </tr>\n",
       "    <tr>\n",
       "      <th>21</th>\n",
       "      <td>AAPL</td>\n",
       "      <td>01-03-2011</td>\n",
       "      <td></td>\n",
       "      <td>355.47</td>\n",
       "      <td>355.72</td>\n",
       "      <td>347.68</td>\n",
       "      <td>349.31</td>\n",
       "      <td>16290300</td>\n",
       "    </tr>\n",
       "    <tr>\n",
       "      <th>22</th>\n",
       "      <td>AAPL</td>\n",
       "      <td>02-03-2011</td>\n",
       "      <td></td>\n",
       "      <td>349.96</td>\n",
       "      <td>354.35</td>\n",
       "      <td>348.40</td>\n",
       "      <td>352.12</td>\n",
       "      <td>21521000</td>\n",
       "    </tr>\n",
       "    <tr>\n",
       "      <th>23</th>\n",
       "      <td>AAPL</td>\n",
       "      <td>03-03-2011</td>\n",
       "      <td></td>\n",
       "      <td>357.20</td>\n",
       "      <td>359.79</td>\n",
       "      <td>355.92</td>\n",
       "      <td>359.56</td>\n",
       "      <td>17885200</td>\n",
       "    </tr>\n",
       "    <tr>\n",
       "      <th>24</th>\n",
       "      <td>AAPL</td>\n",
       "      <td>04-03-2011</td>\n",
       "      <td></td>\n",
       "      <td>360.07</td>\n",
       "      <td>360.29</td>\n",
       "      <td>357.75</td>\n",
       "      <td>360.00</td>\n",
       "      <td>16188000</td>\n",
       "    </tr>\n",
       "    <tr>\n",
       "      <th>25</th>\n",
       "      <td>AAPL</td>\n",
       "      <td>07-03-2011</td>\n",
       "      <td></td>\n",
       "      <td>361.11</td>\n",
       "      <td>361.67</td>\n",
       "      <td>351.31</td>\n",
       "      <td>355.36</td>\n",
       "      <td>19504300</td>\n",
       "    </tr>\n",
       "    <tr>\n",
       "      <th>26</th>\n",
       "      <td>AAPL</td>\n",
       "      <td>08-03-2011</td>\n",
       "      <td></td>\n",
       "      <td>354.91</td>\n",
       "      <td>357.40</td>\n",
       "      <td>352.25</td>\n",
       "      <td>355.76</td>\n",
       "      <td>12718000</td>\n",
       "    </tr>\n",
       "    <tr>\n",
       "      <th>27</th>\n",
       "      <td>AAPL</td>\n",
       "      <td>09-03-2011</td>\n",
       "      <td></td>\n",
       "      <td>354.69</td>\n",
       "      <td>354.76</td>\n",
       "      <td>350.60</td>\n",
       "      <td>352.47</td>\n",
       "      <td>16192700</td>\n",
       "    </tr>\n",
       "    <tr>\n",
       "      <th>28</th>\n",
       "      <td>AAPL</td>\n",
       "      <td>10-03-2011</td>\n",
       "      <td></td>\n",
       "      <td>349.69</td>\n",
       "      <td>349.77</td>\n",
       "      <td>344.90</td>\n",
       "      <td>346.67</td>\n",
       "      <td>18138800</td>\n",
       "    </tr>\n",
       "    <tr>\n",
       "      <th>29</th>\n",
       "      <td>AAPL</td>\n",
       "      <td>11-03-2011</td>\n",
       "      <td></td>\n",
       "      <td>345.40</td>\n",
       "      <td>352.32</td>\n",
       "      <td>345.00</td>\n",
       "      <td>351.99</td>\n",
       "      <td>16824200</td>\n",
       "    </tr>\n",
       "  </tbody>\n",
       "</table>\n",
       "</div>"
      ],
      "text/plain": [
       "    name        date      start     max     min     end  turnover\n",
       "0   AAPL  28-01-2011     344.17  344.40  333.53  336.10  21144800\n",
       "1   AAPL  31-01-2011     335.80  340.04  334.30  339.32  13473000\n",
       "2   AAPL  01-02-2011     341.30  345.65  340.98  345.03  15236800\n",
       "3   AAPL  02-02-2011     344.45  345.25  343.55  344.32   9242600\n",
       "4   AAPL  03-02-2011     343.80  344.24  338.55  343.44  14064100\n",
       "5   AAPL  04-02-2011     343.61  346.70  343.51  346.50  11494200\n",
       "6   AAPL  07-02-2011     347.89  353.25  347.64  351.88  17322100\n",
       "7   AAPL  08-02-2011     353.68  355.52  352.15  355.20  13608500\n",
       "8   AAPL  09-02-2011     355.19  359.00  354.87  358.16  17240800\n",
       "9   AAPL  10-02-2011     357.39  360.00  348.00  354.54  33162400\n",
       "10  AAPL  11-02-2011     354.75  357.80  353.54  356.85  13127500\n",
       "11  AAPL  14-02-2011     356.79  359.48  356.71  359.18  11086200\n",
       "12  AAPL  15-02-2011     359.19  359.97  357.55  359.90  10149000\n",
       "13  AAPL  16-02-2011     360.80  364.90  360.50  363.13  17184100\n",
       "14  AAPL  17-02-2011     357.10  360.27  356.52  358.30  18949000\n",
       "15  AAPL  18-02-2011     358.21  359.50  349.52  350.56  29144500\n",
       "16  AAPL  22-02-2011     342.05  345.40  337.72  338.61  31162200\n",
       "17  AAPL  23-02-2011     338.77  344.64  338.61  342.62  23994700\n",
       "18  AAPL  24-02-2011     344.02  345.15  338.37  342.88  17853500\n",
       "19  AAPL  25-02-2011     345.29  348.43  344.80  348.16  13572000\n",
       "20  AAPL  28-02-2011     351.21  355.05  351.12  353.21  14395400\n",
       "21  AAPL  01-03-2011     355.47  355.72  347.68  349.31  16290300\n",
       "22  AAPL  02-03-2011     349.96  354.35  348.40  352.12  21521000\n",
       "23  AAPL  03-03-2011     357.20  359.79  355.92  359.56  17885200\n",
       "24  AAPL  04-03-2011     360.07  360.29  357.75  360.00  16188000\n",
       "25  AAPL  07-03-2011     361.11  361.67  351.31  355.36  19504300\n",
       "26  AAPL  08-03-2011     354.91  357.40  352.25  355.76  12718000\n",
       "27  AAPL  09-03-2011     354.69  354.76  350.60  352.47  16192700\n",
       "28  AAPL  10-03-2011     349.69  349.77  344.90  346.67  18138800\n",
       "29  AAPL  11-03-2011     345.40  352.32  345.00  351.99  16824200"
      ]
     },
     "execution_count": 2,
     "metadata": {},
     "output_type": "execute_result"
    }
   ],
   "source": [
    "import pandas as pd\n",
    "data = pd.read_csv('data.csv',names=['name','date',' ','start','max','min','end','turnover'])\n",
    "data"
   ]
  },
  {
   "cell_type": "markdown",
   "metadata": {},
   "source": [
    "### 用numpy提取出日期数据，并且将年月日分别提取出来，以便分析"
   ]
  },
  {
   "cell_type": "code",
   "execution_count": 3,
   "metadata": {},
   "outputs": [
    {
     "data": {
      "text/plain": [
       "array(['28-01-2011', '31-01-2011', '01-02-2011', '02-02-2011',\n",
       "       '03-02-2011', '04-02-2011', '07-02-2011', '08-02-2011',\n",
       "       '09-02-2011', '10-02-2011', '11-02-2011', '14-02-2011',\n",
       "       '15-02-2011', '16-02-2011', '17-02-2011', '18-02-2011',\n",
       "       '22-02-2011', '23-02-2011', '24-02-2011', '25-02-2011',\n",
       "       '28-02-2011', '01-03-2011', '02-03-2011', '03-03-2011',\n",
       "       '04-03-2011', '07-03-2011', '08-03-2011', '09-03-2011',\n",
       "       '10-03-2011', '11-03-2011'], dtype='<U10')"
      ]
     },
     "execution_count": 3,
     "metadata": {},
     "output_type": "execute_result"
    }
   ],
   "source": [
    "date = np.loadtxt('data.csv',delimiter=',',usecols=[1],dtype=str)\n",
    "date"
   ]
  },
  {
   "cell_type": "markdown",
   "metadata": {},
   "source": [
    "### 用列表表达式提取年月日信息"
   ]
  },
  {
   "cell_type": "code",
   "execution_count": 20,
   "metadata": {},
   "outputs": [
    {
     "data": {
      "text/plain": [
       "array([28, 31,  1,  2,  3,  4,  7,  8,  9, 10, 11, 14, 15, 16, 17, 18, 22,\n",
       "       23, 24, 25, 28,  1,  2,  3,  4,  7,  8,  9, 10, 11])"
      ]
     },
     "execution_count": 20,
     "metadata": {},
     "output_type": "execute_result"
    }
   ],
   "source": [
    "day = [ele[:2] for ele in date]\n",
    "day = np.int32(day)\n",
    "day"
   ]
  },
  {
   "cell_type": "code",
   "execution_count": 21,
   "metadata": {},
   "outputs": [
    {
     "data": {
      "text/plain": [
       "array([1, 1, 2, 2, 2, 2, 2, 2, 2, 2, 2, 2, 2, 2, 2, 2, 2, 2, 2, 2, 2, 3,\n",
       "       3, 3, 3, 3, 3, 3, 3, 3])"
      ]
     },
     "execution_count": 21,
     "metadata": {},
     "output_type": "execute_result"
    }
   ],
   "source": [
    "month = [ele[3:5] for ele in date]\n",
    "month = np.int32(month)\n",
    "month"
   ]
  },
  {
   "cell_type": "code",
   "execution_count": 22,
   "metadata": {},
   "outputs": [
    {
     "data": {
      "text/plain": [
       "array([2011, 2011, 2011, 2011, 2011, 2011, 2011, 2011, 2011, 2011, 2011,\n",
       "       2011, 2011, 2011, 2011, 2011, 2011, 2011, 2011, 2011, 2011, 2011,\n",
       "       2011, 2011, 2011, 2011, 2011, 2011, 2011, 2011])"
      ]
     },
     "execution_count": 22,
     "metadata": {},
     "output_type": "execute_result"
    }
   ],
   "source": [
    "year = [ele[6:] for ele in date]\n",
    "year = np.int32(year)\n",
    "year"
   ]
  },
  {
   "cell_type": "markdown",
   "metadata": {},
   "source": [
    "### 提取周几的信息"
   ]
  },
  {
   "cell_type": "code",
   "execution_count": 7,
   "metadata": {},
   "outputs": [
    {
     "data": {
      "text/plain": [
       "array([5, 1, 2, 3, 4, 5, 1, 2, 3, 4, 5, 1, 2, 3, 4, 5, 2, 3, 4, 5, 1, 2,\n",
       "       3, 4, 5, 1, 2, 3, 4, 5])"
      ]
     },
     "execution_count": 7,
     "metadata": {},
     "output_type": "execute_result"
    }
   ],
   "source": [
    "def datestr2num(s):\n",
    "    '''编译器在打开data.csv文件时，是以二进制编码的格式打开的，返回的值为\n",
    "    字节字符串bytes，即dates中保存的是bytes型数据，需要把它变回string。\n",
    "    对字符串解码用函数decode('asii')。\n",
    "    '''\n",
    "    return datetime.datetime.strptime(s.decode('ascii'),\"%d-%m-%Y\").date().weekday()\n",
    "\n",
    "weekday = np.loadtxt('data.csv',delimiter=',',usecols=(1),converters={1:datestr2num})\n",
    "weekday = np.int32(weekday) + 1\n",
    "weekday"
   ]
  },
  {
   "cell_type": "code",
   "execution_count": 24,
   "metadata": {
    "collapsed": true
   },
   "outputs": [],
   "source": [
    "data['year'] = year\n",
    "data['month'] = month\n",
    "data['day'] = day\n",
    "data['weekday'] = weekday"
   ]
  },
  {
   "cell_type": "code",
   "execution_count": 25,
   "metadata": {},
   "outputs": [
    {
     "data": {
      "text/html": [
       "<div>\n",
       "<style>\n",
       "    .dataframe thead tr:only-child th {\n",
       "        text-align: right;\n",
       "    }\n",
       "\n",
       "    .dataframe thead th {\n",
       "        text-align: left;\n",
       "    }\n",
       "\n",
       "    .dataframe tbody tr th {\n",
       "        vertical-align: top;\n",
       "    }\n",
       "</style>\n",
       "<table border=\"1\" class=\"dataframe\">\n",
       "  <thead>\n",
       "    <tr style=\"text-align: right;\">\n",
       "      <th></th>\n",
       "      <th>name</th>\n",
       "      <th>date</th>\n",
       "      <th></th>\n",
       "      <th>start</th>\n",
       "      <th>max</th>\n",
       "      <th>min</th>\n",
       "      <th>end</th>\n",
       "      <th>turnover</th>\n",
       "      <th>year</th>\n",
       "      <th>month</th>\n",
       "      <th>day</th>\n",
       "      <th>weekday</th>\n",
       "    </tr>\n",
       "  </thead>\n",
       "  <tbody>\n",
       "    <tr>\n",
       "      <th>0</th>\n",
       "      <td>AAPL</td>\n",
       "      <td>28-01-2011</td>\n",
       "      <td></td>\n",
       "      <td>344.17</td>\n",
       "      <td>344.40</td>\n",
       "      <td>333.53</td>\n",
       "      <td>336.10</td>\n",
       "      <td>21144800</td>\n",
       "      <td>2011</td>\n",
       "      <td>1</td>\n",
       "      <td>28</td>\n",
       "      <td>5</td>\n",
       "    </tr>\n",
       "    <tr>\n",
       "      <th>1</th>\n",
       "      <td>AAPL</td>\n",
       "      <td>31-01-2011</td>\n",
       "      <td></td>\n",
       "      <td>335.80</td>\n",
       "      <td>340.04</td>\n",
       "      <td>334.30</td>\n",
       "      <td>339.32</td>\n",
       "      <td>13473000</td>\n",
       "      <td>2011</td>\n",
       "      <td>1</td>\n",
       "      <td>31</td>\n",
       "      <td>1</td>\n",
       "    </tr>\n",
       "    <tr>\n",
       "      <th>2</th>\n",
       "      <td>AAPL</td>\n",
       "      <td>01-02-2011</td>\n",
       "      <td></td>\n",
       "      <td>341.30</td>\n",
       "      <td>345.65</td>\n",
       "      <td>340.98</td>\n",
       "      <td>345.03</td>\n",
       "      <td>15236800</td>\n",
       "      <td>2011</td>\n",
       "      <td>2</td>\n",
       "      <td>1</td>\n",
       "      <td>2</td>\n",
       "    </tr>\n",
       "    <tr>\n",
       "      <th>3</th>\n",
       "      <td>AAPL</td>\n",
       "      <td>02-02-2011</td>\n",
       "      <td></td>\n",
       "      <td>344.45</td>\n",
       "      <td>345.25</td>\n",
       "      <td>343.55</td>\n",
       "      <td>344.32</td>\n",
       "      <td>9242600</td>\n",
       "      <td>2011</td>\n",
       "      <td>2</td>\n",
       "      <td>2</td>\n",
       "      <td>3</td>\n",
       "    </tr>\n",
       "    <tr>\n",
       "      <th>4</th>\n",
       "      <td>AAPL</td>\n",
       "      <td>03-02-2011</td>\n",
       "      <td></td>\n",
       "      <td>343.80</td>\n",
       "      <td>344.24</td>\n",
       "      <td>338.55</td>\n",
       "      <td>343.44</td>\n",
       "      <td>14064100</td>\n",
       "      <td>2011</td>\n",
       "      <td>2</td>\n",
       "      <td>3</td>\n",
       "      <td>4</td>\n",
       "    </tr>\n",
       "    <tr>\n",
       "      <th>5</th>\n",
       "      <td>AAPL</td>\n",
       "      <td>04-02-2011</td>\n",
       "      <td></td>\n",
       "      <td>343.61</td>\n",
       "      <td>346.70</td>\n",
       "      <td>343.51</td>\n",
       "      <td>346.50</td>\n",
       "      <td>11494200</td>\n",
       "      <td>2011</td>\n",
       "      <td>2</td>\n",
       "      <td>4</td>\n",
       "      <td>5</td>\n",
       "    </tr>\n",
       "    <tr>\n",
       "      <th>6</th>\n",
       "      <td>AAPL</td>\n",
       "      <td>07-02-2011</td>\n",
       "      <td></td>\n",
       "      <td>347.89</td>\n",
       "      <td>353.25</td>\n",
       "      <td>347.64</td>\n",
       "      <td>351.88</td>\n",
       "      <td>17322100</td>\n",
       "      <td>2011</td>\n",
       "      <td>2</td>\n",
       "      <td>7</td>\n",
       "      <td>1</td>\n",
       "    </tr>\n",
       "    <tr>\n",
       "      <th>7</th>\n",
       "      <td>AAPL</td>\n",
       "      <td>08-02-2011</td>\n",
       "      <td></td>\n",
       "      <td>353.68</td>\n",
       "      <td>355.52</td>\n",
       "      <td>352.15</td>\n",
       "      <td>355.20</td>\n",
       "      <td>13608500</td>\n",
       "      <td>2011</td>\n",
       "      <td>2</td>\n",
       "      <td>8</td>\n",
       "      <td>2</td>\n",
       "    </tr>\n",
       "    <tr>\n",
       "      <th>8</th>\n",
       "      <td>AAPL</td>\n",
       "      <td>09-02-2011</td>\n",
       "      <td></td>\n",
       "      <td>355.19</td>\n",
       "      <td>359.00</td>\n",
       "      <td>354.87</td>\n",
       "      <td>358.16</td>\n",
       "      <td>17240800</td>\n",
       "      <td>2011</td>\n",
       "      <td>2</td>\n",
       "      <td>9</td>\n",
       "      <td>3</td>\n",
       "    </tr>\n",
       "    <tr>\n",
       "      <th>9</th>\n",
       "      <td>AAPL</td>\n",
       "      <td>10-02-2011</td>\n",
       "      <td></td>\n",
       "      <td>357.39</td>\n",
       "      <td>360.00</td>\n",
       "      <td>348.00</td>\n",
       "      <td>354.54</td>\n",
       "      <td>33162400</td>\n",
       "      <td>2011</td>\n",
       "      <td>2</td>\n",
       "      <td>10</td>\n",
       "      <td>4</td>\n",
       "    </tr>\n",
       "    <tr>\n",
       "      <th>10</th>\n",
       "      <td>AAPL</td>\n",
       "      <td>11-02-2011</td>\n",
       "      <td></td>\n",
       "      <td>354.75</td>\n",
       "      <td>357.80</td>\n",
       "      <td>353.54</td>\n",
       "      <td>356.85</td>\n",
       "      <td>13127500</td>\n",
       "      <td>2011</td>\n",
       "      <td>2</td>\n",
       "      <td>11</td>\n",
       "      <td>5</td>\n",
       "    </tr>\n",
       "    <tr>\n",
       "      <th>11</th>\n",
       "      <td>AAPL</td>\n",
       "      <td>14-02-2011</td>\n",
       "      <td></td>\n",
       "      <td>356.79</td>\n",
       "      <td>359.48</td>\n",
       "      <td>356.71</td>\n",
       "      <td>359.18</td>\n",
       "      <td>11086200</td>\n",
       "      <td>2011</td>\n",
       "      <td>2</td>\n",
       "      <td>14</td>\n",
       "      <td>1</td>\n",
       "    </tr>\n",
       "    <tr>\n",
       "      <th>12</th>\n",
       "      <td>AAPL</td>\n",
       "      <td>15-02-2011</td>\n",
       "      <td></td>\n",
       "      <td>359.19</td>\n",
       "      <td>359.97</td>\n",
       "      <td>357.55</td>\n",
       "      <td>359.90</td>\n",
       "      <td>10149000</td>\n",
       "      <td>2011</td>\n",
       "      <td>2</td>\n",
       "      <td>15</td>\n",
       "      <td>2</td>\n",
       "    </tr>\n",
       "    <tr>\n",
       "      <th>13</th>\n",
       "      <td>AAPL</td>\n",
       "      <td>16-02-2011</td>\n",
       "      <td></td>\n",
       "      <td>360.80</td>\n",
       "      <td>364.90</td>\n",
       "      <td>360.50</td>\n",
       "      <td>363.13</td>\n",
       "      <td>17184100</td>\n",
       "      <td>2011</td>\n",
       "      <td>2</td>\n",
       "      <td>16</td>\n",
       "      <td>3</td>\n",
       "    </tr>\n",
       "    <tr>\n",
       "      <th>14</th>\n",
       "      <td>AAPL</td>\n",
       "      <td>17-02-2011</td>\n",
       "      <td></td>\n",
       "      <td>357.10</td>\n",
       "      <td>360.27</td>\n",
       "      <td>356.52</td>\n",
       "      <td>358.30</td>\n",
       "      <td>18949000</td>\n",
       "      <td>2011</td>\n",
       "      <td>2</td>\n",
       "      <td>17</td>\n",
       "      <td>4</td>\n",
       "    </tr>\n",
       "    <tr>\n",
       "      <th>15</th>\n",
       "      <td>AAPL</td>\n",
       "      <td>18-02-2011</td>\n",
       "      <td></td>\n",
       "      <td>358.21</td>\n",
       "      <td>359.50</td>\n",
       "      <td>349.52</td>\n",
       "      <td>350.56</td>\n",
       "      <td>29144500</td>\n",
       "      <td>2011</td>\n",
       "      <td>2</td>\n",
       "      <td>18</td>\n",
       "      <td>5</td>\n",
       "    </tr>\n",
       "    <tr>\n",
       "      <th>16</th>\n",
       "      <td>AAPL</td>\n",
       "      <td>22-02-2011</td>\n",
       "      <td></td>\n",
       "      <td>342.05</td>\n",
       "      <td>345.40</td>\n",
       "      <td>337.72</td>\n",
       "      <td>338.61</td>\n",
       "      <td>31162200</td>\n",
       "      <td>2011</td>\n",
       "      <td>2</td>\n",
       "      <td>22</td>\n",
       "      <td>2</td>\n",
       "    </tr>\n",
       "    <tr>\n",
       "      <th>17</th>\n",
       "      <td>AAPL</td>\n",
       "      <td>23-02-2011</td>\n",
       "      <td></td>\n",
       "      <td>338.77</td>\n",
       "      <td>344.64</td>\n",
       "      <td>338.61</td>\n",
       "      <td>342.62</td>\n",
       "      <td>23994700</td>\n",
       "      <td>2011</td>\n",
       "      <td>2</td>\n",
       "      <td>23</td>\n",
       "      <td>3</td>\n",
       "    </tr>\n",
       "    <tr>\n",
       "      <th>18</th>\n",
       "      <td>AAPL</td>\n",
       "      <td>24-02-2011</td>\n",
       "      <td></td>\n",
       "      <td>344.02</td>\n",
       "      <td>345.15</td>\n",
       "      <td>338.37</td>\n",
       "      <td>342.88</td>\n",
       "      <td>17853500</td>\n",
       "      <td>2011</td>\n",
       "      <td>2</td>\n",
       "      <td>24</td>\n",
       "      <td>4</td>\n",
       "    </tr>\n",
       "    <tr>\n",
       "      <th>19</th>\n",
       "      <td>AAPL</td>\n",
       "      <td>25-02-2011</td>\n",
       "      <td></td>\n",
       "      <td>345.29</td>\n",
       "      <td>348.43</td>\n",
       "      <td>344.80</td>\n",
       "      <td>348.16</td>\n",
       "      <td>13572000</td>\n",
       "      <td>2011</td>\n",
       "      <td>2</td>\n",
       "      <td>25</td>\n",
       "      <td>5</td>\n",
       "    </tr>\n",
       "    <tr>\n",
       "      <th>20</th>\n",
       "      <td>AAPL</td>\n",
       "      <td>28-02-2011</td>\n",
       "      <td></td>\n",
       "      <td>351.21</td>\n",
       "      <td>355.05</td>\n",
       "      <td>351.12</td>\n",
       "      <td>353.21</td>\n",
       "      <td>14395400</td>\n",
       "      <td>2011</td>\n",
       "      <td>2</td>\n",
       "      <td>28</td>\n",
       "      <td>1</td>\n",
       "    </tr>\n",
       "    <tr>\n",
       "      <th>21</th>\n",
       "      <td>AAPL</td>\n",
       "      <td>01-03-2011</td>\n",
       "      <td></td>\n",
       "      <td>355.47</td>\n",
       "      <td>355.72</td>\n",
       "      <td>347.68</td>\n",
       "      <td>349.31</td>\n",
       "      <td>16290300</td>\n",
       "      <td>2011</td>\n",
       "      <td>3</td>\n",
       "      <td>1</td>\n",
       "      <td>2</td>\n",
       "    </tr>\n",
       "    <tr>\n",
       "      <th>22</th>\n",
       "      <td>AAPL</td>\n",
       "      <td>02-03-2011</td>\n",
       "      <td></td>\n",
       "      <td>349.96</td>\n",
       "      <td>354.35</td>\n",
       "      <td>348.40</td>\n",
       "      <td>352.12</td>\n",
       "      <td>21521000</td>\n",
       "      <td>2011</td>\n",
       "      <td>3</td>\n",
       "      <td>2</td>\n",
       "      <td>3</td>\n",
       "    </tr>\n",
       "    <tr>\n",
       "      <th>23</th>\n",
       "      <td>AAPL</td>\n",
       "      <td>03-03-2011</td>\n",
       "      <td></td>\n",
       "      <td>357.20</td>\n",
       "      <td>359.79</td>\n",
       "      <td>355.92</td>\n",
       "      <td>359.56</td>\n",
       "      <td>17885200</td>\n",
       "      <td>2011</td>\n",
       "      <td>3</td>\n",
       "      <td>3</td>\n",
       "      <td>4</td>\n",
       "    </tr>\n",
       "    <tr>\n",
       "      <th>24</th>\n",
       "      <td>AAPL</td>\n",
       "      <td>04-03-2011</td>\n",
       "      <td></td>\n",
       "      <td>360.07</td>\n",
       "      <td>360.29</td>\n",
       "      <td>357.75</td>\n",
       "      <td>360.00</td>\n",
       "      <td>16188000</td>\n",
       "      <td>2011</td>\n",
       "      <td>3</td>\n",
       "      <td>4</td>\n",
       "      <td>5</td>\n",
       "    </tr>\n",
       "    <tr>\n",
       "      <th>25</th>\n",
       "      <td>AAPL</td>\n",
       "      <td>07-03-2011</td>\n",
       "      <td></td>\n",
       "      <td>361.11</td>\n",
       "      <td>361.67</td>\n",
       "      <td>351.31</td>\n",
       "      <td>355.36</td>\n",
       "      <td>19504300</td>\n",
       "      <td>2011</td>\n",
       "      <td>3</td>\n",
       "      <td>7</td>\n",
       "      <td>1</td>\n",
       "    </tr>\n",
       "    <tr>\n",
       "      <th>26</th>\n",
       "      <td>AAPL</td>\n",
       "      <td>08-03-2011</td>\n",
       "      <td></td>\n",
       "      <td>354.91</td>\n",
       "      <td>357.40</td>\n",
       "      <td>352.25</td>\n",
       "      <td>355.76</td>\n",
       "      <td>12718000</td>\n",
       "      <td>2011</td>\n",
       "      <td>3</td>\n",
       "      <td>8</td>\n",
       "      <td>2</td>\n",
       "    </tr>\n",
       "    <tr>\n",
       "      <th>27</th>\n",
       "      <td>AAPL</td>\n",
       "      <td>09-03-2011</td>\n",
       "      <td></td>\n",
       "      <td>354.69</td>\n",
       "      <td>354.76</td>\n",
       "      <td>350.60</td>\n",
       "      <td>352.47</td>\n",
       "      <td>16192700</td>\n",
       "      <td>2011</td>\n",
       "      <td>3</td>\n",
       "      <td>9</td>\n",
       "      <td>3</td>\n",
       "    </tr>\n",
       "    <tr>\n",
       "      <th>28</th>\n",
       "      <td>AAPL</td>\n",
       "      <td>10-03-2011</td>\n",
       "      <td></td>\n",
       "      <td>349.69</td>\n",
       "      <td>349.77</td>\n",
       "      <td>344.90</td>\n",
       "      <td>346.67</td>\n",
       "      <td>18138800</td>\n",
       "      <td>2011</td>\n",
       "      <td>3</td>\n",
       "      <td>10</td>\n",
       "      <td>4</td>\n",
       "    </tr>\n",
       "    <tr>\n",
       "      <th>29</th>\n",
       "      <td>AAPL</td>\n",
       "      <td>11-03-2011</td>\n",
       "      <td></td>\n",
       "      <td>345.40</td>\n",
       "      <td>352.32</td>\n",
       "      <td>345.00</td>\n",
       "      <td>351.99</td>\n",
       "      <td>16824200</td>\n",
       "      <td>2011</td>\n",
       "      <td>3</td>\n",
       "      <td>11</td>\n",
       "      <td>5</td>\n",
       "    </tr>\n",
       "  </tbody>\n",
       "</table>\n",
       "</div>"
      ],
      "text/plain": [
       "    name        date      start     max     min     end  turnover  year  \\\n",
       "0   AAPL  28-01-2011     344.17  344.40  333.53  336.10  21144800  2011   \n",
       "1   AAPL  31-01-2011     335.80  340.04  334.30  339.32  13473000  2011   \n",
       "2   AAPL  01-02-2011     341.30  345.65  340.98  345.03  15236800  2011   \n",
       "3   AAPL  02-02-2011     344.45  345.25  343.55  344.32   9242600  2011   \n",
       "4   AAPL  03-02-2011     343.80  344.24  338.55  343.44  14064100  2011   \n",
       "5   AAPL  04-02-2011     343.61  346.70  343.51  346.50  11494200  2011   \n",
       "6   AAPL  07-02-2011     347.89  353.25  347.64  351.88  17322100  2011   \n",
       "7   AAPL  08-02-2011     353.68  355.52  352.15  355.20  13608500  2011   \n",
       "8   AAPL  09-02-2011     355.19  359.00  354.87  358.16  17240800  2011   \n",
       "9   AAPL  10-02-2011     357.39  360.00  348.00  354.54  33162400  2011   \n",
       "10  AAPL  11-02-2011     354.75  357.80  353.54  356.85  13127500  2011   \n",
       "11  AAPL  14-02-2011     356.79  359.48  356.71  359.18  11086200  2011   \n",
       "12  AAPL  15-02-2011     359.19  359.97  357.55  359.90  10149000  2011   \n",
       "13  AAPL  16-02-2011     360.80  364.90  360.50  363.13  17184100  2011   \n",
       "14  AAPL  17-02-2011     357.10  360.27  356.52  358.30  18949000  2011   \n",
       "15  AAPL  18-02-2011     358.21  359.50  349.52  350.56  29144500  2011   \n",
       "16  AAPL  22-02-2011     342.05  345.40  337.72  338.61  31162200  2011   \n",
       "17  AAPL  23-02-2011     338.77  344.64  338.61  342.62  23994700  2011   \n",
       "18  AAPL  24-02-2011     344.02  345.15  338.37  342.88  17853500  2011   \n",
       "19  AAPL  25-02-2011     345.29  348.43  344.80  348.16  13572000  2011   \n",
       "20  AAPL  28-02-2011     351.21  355.05  351.12  353.21  14395400  2011   \n",
       "21  AAPL  01-03-2011     355.47  355.72  347.68  349.31  16290300  2011   \n",
       "22  AAPL  02-03-2011     349.96  354.35  348.40  352.12  21521000  2011   \n",
       "23  AAPL  03-03-2011     357.20  359.79  355.92  359.56  17885200  2011   \n",
       "24  AAPL  04-03-2011     360.07  360.29  357.75  360.00  16188000  2011   \n",
       "25  AAPL  07-03-2011     361.11  361.67  351.31  355.36  19504300  2011   \n",
       "26  AAPL  08-03-2011     354.91  357.40  352.25  355.76  12718000  2011   \n",
       "27  AAPL  09-03-2011     354.69  354.76  350.60  352.47  16192700  2011   \n",
       "28  AAPL  10-03-2011     349.69  349.77  344.90  346.67  18138800  2011   \n",
       "29  AAPL  11-03-2011     345.40  352.32  345.00  351.99  16824200  2011   \n",
       "\n",
       "    month  day  weekday  \n",
       "0       1   28        5  \n",
       "1       1   31        1  \n",
       "2       2    1        2  \n",
       "3       2    2        3  \n",
       "4       2    3        4  \n",
       "5       2    4        5  \n",
       "6       2    7        1  \n",
       "7       2    8        2  \n",
       "8       2    9        3  \n",
       "9       2   10        4  \n",
       "10      2   11        5  \n",
       "11      2   14        1  \n",
       "12      2   15        2  \n",
       "13      2   16        3  \n",
       "14      2   17        4  \n",
       "15      2   18        5  \n",
       "16      2   22        2  \n",
       "17      2   23        3  \n",
       "18      2   24        4  \n",
       "19      2   25        5  \n",
       "20      2   28        1  \n",
       "21      3    1        2  \n",
       "22      3    2        3  \n",
       "23      3    3        4  \n",
       "24      3    4        5  \n",
       "25      3    7        1  \n",
       "26      3    8        2  \n",
       "27      3    9        3  \n",
       "28      3   10        4  \n",
       "29      3   11        5  "
      ]
     },
     "execution_count": 25,
     "metadata": {},
     "output_type": "execute_result"
    }
   ],
   "source": [
    "data"
   ]
  },
  {
   "cell_type": "code",
   "execution_count": null,
   "metadata": {
    "collapsed": true
   },
   "outputs": [],
   "source": []
  },
  {
   "cell_type": "markdown",
   "metadata": {},
   "source": [
    "### 用numpy提取股票价格信息，并做分析。其实所有的分析都可以用pandas完成，这里只是用来体会numpy的分析功能"
   ]
  },
  {
   "cell_type": "code",
   "execution_count": 26,
   "metadata": {
    "collapsed": true
   },
   "outputs": [],
   "source": [
    "start,maxi,mini,end = np.loadtxt('data.csv',delimiter=',',usecols=(3,4,5,6),unpack=True)"
   ]
  },
  {
   "cell_type": "code",
   "execution_count": 27,
   "metadata": {},
   "outputs": [
    {
     "data": {
      "text/plain": [
       "array([344.17, 335.8 , 341.3 , 344.45, 343.8 , 343.61, 347.89, 353.68,\n",
       "       355.19, 357.39, 354.75, 356.79, 359.19, 360.8 , 357.1 , 358.21,\n",
       "       342.05, 338.77, 344.02, 345.29, 351.21, 355.47, 349.96, 357.2 ,\n",
       "       360.07, 361.11, 354.91, 354.69, 349.69, 345.4 ])"
      ]
     },
     "execution_count": 27,
     "metadata": {},
     "output_type": "execute_result"
    }
   ],
   "source": [
    "start"
   ]
  },
  {
   "cell_type": "code",
   "execution_count": 28,
   "metadata": {},
   "outputs": [
    {
     "data": {
      "text/plain": [
       "array([336.1 , 339.32, 345.03, 344.32, 343.44, 346.5 , 351.88, 355.2 ,\n",
       "       358.16, 354.54, 356.85, 359.18, 359.9 , 363.13, 358.3 , 350.56,\n",
       "       338.61, 342.62, 342.88, 348.16, 353.21, 349.31, 352.12, 359.56,\n",
       "       360.  , 355.36, 355.76, 352.47, 346.67, 351.99])"
      ]
     },
     "execution_count": 28,
     "metadata": {},
     "output_type": "execute_result"
    }
   ],
   "source": [
    "end"
   ]
  },
  {
   "cell_type": "code",
   "execution_count": 29,
   "metadata": {},
   "outputs": [
    {
     "data": {
      "text/plain": [
       "<matplotlib.legend.Legend at 0x1f21e8f3048>"
      ]
     },
     "execution_count": 29,
     "metadata": {},
     "output_type": "execute_result"
    },
    {
     "data": {
      "image/png": "[encoded data removed]",
      "text/plain": [
       "<Figure size 576x432 with 1 Axes>"
      ]
     },
     "metadata": {},
     "output_type": "display_data"
    }
   ],
   "source": [
    "plt.figure(figsize=(8,6))\n",
    "plt.plot(start,'g',label='start price')\n",
    "plt.plot(maxi,'r',label='maximum price')\n",
    "plt.plot(mini,'k',label='minimum price')\n",
    "plt.plot(end,'b',label='end price')\n",
    "plt.legend()"
   ]
  },
  {
   "cell_type": "code",
   "execution_count": 30,
   "metadata": {},
   "outputs": [
    {
     "data": {
      "text/plain": [
       "<matplotlib.legend.Legend at 0x1f21d8b9cc0>"
      ]
     },
     "execution_count": 30,
     "metadata": {},
     "output_type": "execute_result"
    },
    {
     "data": {
      "image/png": "[encoded data removed]",
      "text/plain": [
       "<Figure size 576x432 with 1 Axes>"
      ]
     },
     "metadata": {},
     "output_type": "display_data"
    }
   ],
   "source": [
    "plt.figure(figsize=(8,6))\n",
    "plt.plot(start,'g',label='start price')\n",
    "plt.fill_between(np.arange(maxi.shape[0]),y1=mini,y2=maxi,edgecolor='b',facecolor='b',label='range',alpha=0.3)\n",
    "plt.plot(end,'b',label='end price')\n",
    "plt.legend()"
   ]
  },
  {
   "cell_type": "markdown",
   "metadata": {},
   "source": [
    "### 收盘价最高的是哪一天, 开盘价最低的是哪一天？"
   ]
  },
  {
   "cell_type": "code",
   "execution_count": 31,
   "metadata": {},
   "outputs": [
    {
     "name": "stdout",
     "output_type": "stream",
     "text": [
      "16-02-2011\n",
      "31-01-2011\n"
     ]
    }
   ],
   "source": [
    "end_max = np.argmax(end)\n",
    "print(date[end_max])\n",
    "\n",
    "start_min = np.argmin(start)\n",
    "print(date[start_min])"
   ]
  },
  {
   "cell_type": "markdown",
   "metadata": {},
   "source": [
    "### 计算周五的平均开盘价"
   ]
  },
  {
   "cell_type": "code",
   "execution_count": 32,
   "metadata": {},
   "outputs": [
    {
     "data": {
      "text/plain": [
       "350.2142857142857"
      ]
     },
     "execution_count": 32,
     "metadata": {},
     "output_type": "execute_result"
    }
   ],
   "source": [
    "index_friday = np.where(weekday == 5)\n",
    "friday_start_mean = np.mean(start[index_friday])\n",
    "friday_start_mean"
   ]
  },
  {
   "cell_type": "markdown",
   "metadata": {},
   "source": [
    "### 计算周三的最高收盘价"
   ]
  },
  {
   "cell_type": "code",
   "execution_count": 33,
   "metadata": {},
   "outputs": [
    {
     "data": {
      "text/plain": [
       "363.13"
      ]
     },
     "execution_count": 33,
     "metadata": {},
     "output_type": "execute_result"
    }
   ],
   "source": [
    "index_wed = np.where(weekday == 3)\n",
    "wed_end_max = np.max(end[index_wed])\n",
    "wed_end_max"
   ]
  },
  {
   "cell_type": "markdown",
   "metadata": {},
   "source": [
    "### 计算真实波动幅度均值（ATR, average true range）\n",
    "1. ATR基于前20个交易日的最高价，最低价和收盘价进行计算\n",
    "2. 计算公式为 \n",
    "    $$ATR = \\frac{(N-1)*PATR+TR}{N}$$\n",
    "  PATR是前一个交易日的ATR值"
   ]
  },
  {
   "cell_type": "code",
   "execution_count": 34,
   "metadata": {
    "collapsed": true
   },
   "outputs": [],
   "source": [
    "N = 20\n",
    "high = maxi[-N:]\n",
    "low = mini[-N:]\n",
    "previous_close = end[-N-1:-1] "
   ]
  },
  {
   "cell_type": "code",
   "execution_count": 35,
   "metadata": {
    "collapsed": true
   },
   "outputs": [],
   "source": [
    "true_range = np.maximum(high-low,high-previous_close,previous_close-low)\n",
    "## np.max用于求序列的最大值，np.maximum用于逐位比较，并取其大值"
   ]
  },
  {
   "cell_type": "code",
   "execution_count": 36,
   "metadata": {},
   "outputs": [
    {
     "data": {
      "text/plain": [
       "array([ 4.26,  2.77,  2.42,  5.  ,  3.75,  9.98,  7.68,  6.03,  6.78,\n",
       "        5.55,  6.89,  8.04,  5.95,  7.67,  2.54, 10.36,  5.15,  4.16,\n",
       "        4.87,  7.32])"
      ]
     },
     "execution_count": 36,
     "metadata": {},
     "output_type": "execute_result"
    }
   ],
   "source": [
    "true_range"
   ]
  },
  {
   "cell_type": "code",
   "execution_count": 37,
   "metadata": {},
   "outputs": [
    {
     "name": "stdout",
     "output_type": "stream",
     "text": [
      "[5.8585     5.704075   5.53987125 5.51287769 5.4247338  5.65249711\n",
      " 5.75387226 5.76767864 5.81829471 5.80487998 5.85913598 5.96817918\n",
      " 5.96727022 6.05240671 5.87678637 6.10094705 6.0533997  5.95872972\n",
      " 5.90429323 5.97507857]\n"
     ]
    }
   ],
   "source": [
    "atr = np.zeros(N)\n",
    "atr[0] = np.mean(true_range) #赋第一个值进行初始化\n",
    "for i in range(1,N):\n",
    "    atr[i] = (N-1)*atr[i-1] + true_range[i]\n",
    "    atr[i] = atr[i]/N\n",
    "    \n",
    "print(atr)"
   ]
  },
  {
   "cell_type": "code",
   "execution_count": null,
   "metadata": {
    "collapsed": true
   },
   "outputs": [],
   "source": []
  },
  {
   "cell_type": "code",
   "execution_count": null,
   "metadata": {
    "collapsed": true
   },
   "outputs": [],
   "source": []
  },
  {
   "cell_type": "markdown",
   "metadata": {},
   "source": [
    "### 把数据写入csv"
   ]
  },
  {
   "cell_type": "code",
   "execution_count": 31,
   "metadata": {
    "collapsed": true
   },
   "outputs": [],
   "source": [
    "data.to_csv('data_modified.csv')"
   ]
  },
  {
   "cell_type": "code",
   "execution_count": 38,
   "metadata": {
    "collapsed": true
   },
   "outputs": [],
   "source": [
    "data['name']=['nan']*start.shape[0]"
   ]
  },
  {
   "cell_type": "code",
   "execution_count": 39,
   "metadata": {
    "collapsed": true
   },
   "outputs": [],
   "source": [
    "data.to_csv('data_modified.csv')"
   ]
  },
  {
   "cell_type": "code",
   "execution_count": null,
   "metadata": {
    "collapsed": true
   },
   "outputs": [],
   "source": []
  }
 ],
 "metadata": {
  "kernelspec": {
   "display_name": "Python 3",
   "language": "python",
   "name": "python3"
  },
  "language_info": {
   "codemirror_mode": {
    "name": "ipython",
    "version": 3
   },
   "file_extension": ".py",
   "mimetype": "text/x-python",
   "name": "python",
   "nbconvert_exporter": "python",
   "pygments_lexer": "ipython3",
   "version": "3.6.3"
  },
  "varInspector": {
   "cols": {
    "lenName": 16,
    "lenType": 16,
    "lenVar": 40
   },
   "kernels_config": {
    "python": {
     "delete_cmd_postfix": "",
     "delete_cmd_prefix": "del ",
     "library": "var_list.py",
     "varRefreshCmd": "print(var_dic_list())"
    },
    "r": {
     "delete_cmd_postfix": ") ",
     "delete_cmd_prefix": "rm(",
     "library": "var_list.r",
     "varRefreshCmd": "cat(var_dic_list()) "
    }
   },
   "types_to_exclude": [
    "module",
    "function",
    "builtin_function_or_method",
    "instance",
    "_Feature"
   ],
   "window_display": false
  }
 },
 "nbformat": 4,
 "nbformat_minor": 2
}
