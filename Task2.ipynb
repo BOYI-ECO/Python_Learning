{
 "cells": [
  {
   "cell_type": "markdown",
   "metadata": {},
   "source": [
    "### 操作文本数据。读取某软件的输出结果（文本形式），提取信息，并作图展示。也可将新的内容写回原来的文本文档。"
   ]
  },
  {
   "cell_type": "markdown",
   "metadata": {},
   "source": [
    "#### with语句是上下文管理器（context manager），上下文管理器是一种支持__enter__和__exit__这两个方法的对象。__enter__方法不带参数，它在进入with语句块的时候被调用，返回值绑定到在as关键字之后的变量。"
   ]
  },
  {
   "cell_type": "code",
   "execution_count": 1,
   "metadata": {
    "collapsed": true
   },
   "outputs": [],
   "source": [
    "import numpy as np\n",
    "import matplotlib.pyplot as plt\n",
    "%matplotlib inline"
   ]
  },
  {
   "cell_type": "code",
   "execution_count": 2,
   "metadata": {},
   "outputs": [
    {
     "data": {
      "text/plain": [
       "['\\n',\n",
       " '                     Node(  349)                   Node(  677)                   Node( 1005)\\n',\n",
       " '\\n',\n",
       " '      time          hNew     theta    Temp          hNew     theta    Temp          hNew     theta    Temp    \\n',\n",
       " '  .00000000E+00     -102.948   .1005   20.000       -102.948   .1005   20.000       -102.948   .1005   20.000\\n',\n",
       " '        1.0000     -102.474   .1008   20.000       -102.948   .1005   20.000       -102.948   .1005   20.000\\n',\n",
       " '        2.0000      -13.891   .3444   20.000       -102.948   .1005   20.000       -102.948   .1005   20.000\\n',\n",
       " '        3.0000       -7.179   .3895   20.000       -102.948   .1005   20.000       -102.948   .1005   20.000\\n',\n",
       " '        4.0000       -5.988   .3956   20.000       -102.540   .1008   20.000       -102.948   .1005   20.000\\n',\n",
       " '        5.0000       -5.612   .3973   20.000        -32.178   .2295   20.000       -102.948   .1005   20.000\\n',\n",
       " '        6.0000       -5.442   .3981   20.000        -12.999   .3509   20.000       -102.948   .1005   20.000\\n',\n",
       " '        7.0000       -5.335   .3985   20.000         -9.536   .3752   20.000       -102.948   .1005   20.000\\n',\n",
       " '        8.0000       -5.263   .3988   20.000         -8.285   .3832   20.000       -102.712   .1007   20.000\\n',\n",
       " '        9.0000       -5.217   .3990   20.000         -7.687   .3867   20.000        -47.054   .1761   20.000\\n',\n",
       " '       10.0000       -5.192   .3991   20.000         -7.385   .3884   20.000        -16.043   .3285   20.000\\n',\n",
       " 'end\\n']"
      ]
     },
     "execution_count": 2,
     "metadata": {},
     "output_type": "execute_result"
    }
   ],
   "source": [
    "with open('ObsNod.out','r') as f:\n",
    "    raw_content = f.readlines()\n",
    "\n",
    "raw_content"
   ]
  },
  {
   "cell_type": "code",
   "execution_count": 3,
   "metadata": {
    "collapsed": true
   },
   "outputs": [],
   "source": [
    "content = raw_content.copy()\n",
    "for i in range(len(content)):\n",
    "    content[i] = content[i].split()   #将文本的每一个item按空格进行分开，每一行是该行所有的item组成的列表，有多少行就有多少个列表                    "
   ]
  },
  {
   "cell_type": "code",
   "execution_count": 32,
   "metadata": {
    "collapsed": true
   },
   "outputs": [],
   "source": [
    "valid_content = content[4:-1]   # 提取出需要分析的数据，看好位置提取\n",
    "for i in range(len(valid_content)):\n",
    "    valid_content[i] = np.float32(np.array(valid_content[i]))  # 将每一个list转换成数组，并且将str类型的数据转换成float类型数据\n",
    "valid_content = np.array(valid_content) # 因为valid_content本身是列表，所以这里再做一个数组变换，这样要提取的数据就存到了最终的数组里了"
   ]
  },
  {
   "cell_type": "markdown",
   "metadata": {},
   "source": [
    "#### 提取三个点 的h随时间的变化"
   ]
  },
  {
   "cell_type": "code",
   "execution_count": 47,
   "metadata": {
    "collapsed": true
   },
   "outputs": [],
   "source": [
    "time = valid_content[:,0]\n",
    "\n",
    "h_up = valid_content[:,1]\n",
    "h_mid = valid_content[:,4]\n",
    "h_low = valid_content[:,7]"
   ]
  },
  {
   "cell_type": "code",
   "execution_count": 57,
   "metadata": {},
   "outputs": [
    {
     "data": {
      "text/plain": [
       "<matplotlib.legend.Legend at 0x150bb6c0e80>"
      ]
     },
     "execution_count": 57,
     "metadata": {},
     "output_type": "execute_result"
    },
    {
     "data": {
      "image/png": "[encoded data removed]",
      "text/plain": [
       "<Figure size 576x432 with 1 Axes>"
      ]
     },
     "metadata": {},
     "output_type": "display_data"
    }
   ],
   "source": [
    "plt.figure(figsize=(8,6))\n",
    "plt.plot(time,h_up,'ro')\n",
    "plt.plot(time,h_up,'b',label='The upper observation')\n",
    "\n",
    "plt.plot(time,h_mid,'ks')\n",
    "plt.plot(time,h_mid,'g',label='The upper observation')\n",
    "\n",
    "plt.plot(time,h_low,'c*')\n",
    "plt.plot(time,h_low,'y',label='The lower observation')\n",
    "plt.legend(loc='center right')"
   ]
  },
  {
   "cell_type": "markdown",
   "metadata": {},
   "source": [
    "### 向文本文档中写数据"
   ]
  },
  {
   "cell_type": "code",
   "execution_count": 14,
   "metadata": {
    "collapsed": true
   },
   "outputs": [],
   "source": [
    "content[0] = 'Python is a convenient for text processing'\n",
    "content_add = 'Python is popular because it is easy to study.'\n",
    "content.append(content_add)  #这里获得的是一连串的列表，这个不能写进文本，需要转换成一连串的字符串（类似raw_content）才可以写进文本"
   ]
  },
  {
   "cell_type": "code",
   "execution_count": 38,
   "metadata": {
    "scrolled": false
   },
   "outputs": [],
   "source": [
    "content_write = []   # 准备一个空列表，用于接收一连串的字符串，一个字符串代表即将写入文本的一行\n",
    "for i in range(len(content)):\n",
    "    str_ = ' '.join(content[i]) + '\\n'  #使用join进行字符串拼接效率比较高，字符串末尾的换行符不能少\n",
    "    content_write.append(str_)"
   ]
  },
  {
   "cell_type": "code",
   "execution_count": 39,
   "metadata": {},
   "outputs": [
    {
     "data": {
      "text/plain": [
       "['P y t h o n   i s   a   c o n v e n i e n t   f o r   t e x t   p r o c e s s i n g\\n',\n",
       " 'Node( 349) Node( 677) Node( 1005)\\n',\n",
       " '\\n',\n",
       " 'time hNew theta Temp hNew theta Temp hNew theta Temp\\n',\n",
       " '.00000000E+00 -102.948 .1005 20.000 -102.948 .1005 20.000 -102.948 .1005 20.000\\n',\n",
       " '1.0000 -102.474 .1008 20.000 -102.948 .1005 20.000 -102.948 .1005 20.000\\n',\n",
       " '2.0000 -13.891 .3444 20.000 -102.948 .1005 20.000 -102.948 .1005 20.000\\n',\n",
       " '3.0000 -7.179 .3895 20.000 -102.948 .1005 20.000 -102.948 .1005 20.000\\n',\n",
       " '4.0000 -5.988 .3956 20.000 -102.540 .1008 20.000 -102.948 .1005 20.000\\n',\n",
       " '5.0000 -5.612 .3973 20.000 -32.178 .2295 20.000 -102.948 .1005 20.000\\n',\n",
       " '6.0000 -5.442 .3981 20.000 -12.999 .3509 20.000 -102.948 .1005 20.000\\n',\n",
       " '7.0000 -5.335 .3985 20.000 -9.536 .3752 20.000 -102.948 .1005 20.000\\n',\n",
       " '8.0000 -5.263 .3988 20.000 -8.285 .3832 20.000 -102.712 .1007 20.000\\n',\n",
       " '9.0000 -5.217 .3990 20.000 -7.687 .3867 20.000 -47.054 .1761 20.000\\n',\n",
       " '10.0000 -5.192 .3991 20.000 -7.385 .3884 20.000 -16.043 .3285 20.000\\n',\n",
       " 'end\\n',\n",
       " 'P y t h o n   i s   p o p u l a r   b e c a u s e   i t   i s   e a s y   t o   s t u d y .\\n']"
      ]
     },
     "execution_count": 39,
     "metadata": {},
     "output_type": "execute_result"
    }
   ],
   "source": [
    "content_write"
   ]
  },
  {
   "cell_type": "code",
   "execution_count": 40,
   "metadata": {
    "scrolled": false
   },
   "outputs": [],
   "source": [
    "content_write[0] = content[0] + '\\n'  #对新加的内容做进一步调整\n",
    "content_write[-1] = content[-1] + '\\n'"
   ]
  },
  {
   "cell_type": "code",
   "execution_count": 41,
   "metadata": {},
   "outputs": [
    {
     "data": {
      "text/plain": [
       "['Python is a convenient for text processing\\n',\n",
       " 'Node( 349) Node( 677) Node( 1005)\\n',\n",
       " '\\n',\n",
       " 'time hNew theta Temp hNew theta Temp hNew theta Temp\\n',\n",
       " '.00000000E+00 -102.948 .1005 20.000 -102.948 .1005 20.000 -102.948 .1005 20.000\\n',\n",
       " '1.0000 -102.474 .1008 20.000 -102.948 .1005 20.000 -102.948 .1005 20.000\\n',\n",
       " '2.0000 -13.891 .3444 20.000 -102.948 .1005 20.000 -102.948 .1005 20.000\\n',\n",
       " '3.0000 -7.179 .3895 20.000 -102.948 .1005 20.000 -102.948 .1005 20.000\\n',\n",
       " '4.0000 -5.988 .3956 20.000 -102.540 .1008 20.000 -102.948 .1005 20.000\\n',\n",
       " '5.0000 -5.612 .3973 20.000 -32.178 .2295 20.000 -102.948 .1005 20.000\\n',\n",
       " '6.0000 -5.442 .3981 20.000 -12.999 .3509 20.000 -102.948 .1005 20.000\\n',\n",
       " '7.0000 -5.335 .3985 20.000 -9.536 .3752 20.000 -102.948 .1005 20.000\\n',\n",
       " '8.0000 -5.263 .3988 20.000 -8.285 .3832 20.000 -102.712 .1007 20.000\\n',\n",
       " '9.0000 -5.217 .3990 20.000 -7.687 .3867 20.000 -47.054 .1761 20.000\\n',\n",
       " '10.0000 -5.192 .3991 20.000 -7.385 .3884 20.000 -16.043 .3285 20.000\\n',\n",
       " 'end\\n',\n",
       " 'Python is popular because it is easy to study.\\n']"
      ]
     },
     "execution_count": 41,
     "metadata": {},
     "output_type": "execute_result"
    }
   ],
   "source": [
    "content_write"
   ]
  },
  {
   "cell_type": "code",
   "execution_count": 42,
   "metadata": {},
   "outputs": [],
   "source": [
    "with open('modified_content.txt','w') as f:\n",
    "    f.writelines(content_write)"
   ]
  },
  {
   "cell_type": "code",
   "execution_count": null,
   "metadata": {
    "collapsed": true
   },
   "outputs": [],
   "source": []
  },
  {
   "cell_type": "code",
   "execution_count": null,
   "metadata": {
    "collapsed": true
   },
   "outputs": [],
   "source": []
  }
 ],
 "metadata": {
  "kernelspec": {
   "display_name": "Python 3",
   "language": "python",
   "name": "python3"
  },
  "language_info": {
   "codemirror_mode": {
    "name": "ipython",
    "version": 3
   },
   "file_extension": ".py",
   "mimetype": "text/x-python",
   "name": "python",
   "nbconvert_exporter": "python",
   "pygments_lexer": "ipython3",
   "version": "3.6.3"
  },
  "varInspector": {
   "cols": {
    "lenName": 16,
    "lenType": 16,
    "lenVar": 40
   },
   "kernels_config": {
    "python": {
     "delete_cmd_postfix": "",
     "delete_cmd_prefix": "del ",
     "library": "var_list.py",
     "varRefreshCmd": "print(var_dic_list())"
    },
    "r": {
     "delete_cmd_postfix": ") ",
     "delete_cmd_prefix": "rm(",
     "library": "var_list.r",
     "varRefreshCmd": "cat(var_dic_list()) "
    }
   },
   "types_to_exclude": [
    "module",
    "function",
    "builtin_function_or_method",
    "instance",
    "_Feature"
   ],
   "window_display": false
  }
 },
 "nbformat": 4,
 "nbformat_minor": 2
}
