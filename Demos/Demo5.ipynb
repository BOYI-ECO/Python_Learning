{
 "cells": [
  {
   "cell_type": "code",
   "execution_count": 19,
   "metadata": {},
   "outputs": [
    {
     "data": {
      "text/plain": [
       "array([ 0.6206923 ,  0.71290187,  0.50177496])"
      ]
     },
     "execution_count": 19,
     "metadata": {},
     "output_type": "execute_result"
    }
   ],
   "source": [
    "import numpy as np\n",
    "from scipy import linalg\n",
    "A = np.random.rand(3,3)\n",
    "b = np.random.rand(3)   #这表示三行 还是三列呢？   ---一维的三个数\n",
    "x = linalg.solve(A,b)\n",
    "x\n",
    "b.shape\n",
    "b"
   ]
  },
  {
   "cell_type": "code",
   "execution_count": 20,
   "metadata": {
    "collapsed": true
   },
   "outputs": [],
   "source": [
    "np.random.rand?"
   ]
  },
  {
   "cell_type": "code",
   "execution_count": 1,
   "metadata": {},
   "outputs": [
    {
     "data": {
      "text/plain": [
       "array([[ 0.76196664,  0.70008077,  0.23808111],\n",
       "       [ 0.15973664,  0.15431453,  0.88418095],\n",
       "       [ 0.50487894,  0.99347356,  0.46591952]])"
      ]
     },
     "execution_count": 1,
     "metadata": {},
     "output_type": "execute_result"
    }
   ],
   "source": [
    "import numpy as np\n",
    "np.random.rand(3,3)"
   ]
  },
  {
   "cell_type": "code",
   "execution_count": 10,
   "metadata": {},
   "outputs": [
    {
     "data": {
      "text/plain": [
       "0.52866337931917839"
      ]
     },
     "execution_count": 10,
     "metadata": {},
     "output_type": "execute_result"
    }
   ],
   "source": [
    "b1 = np.random.rand(3,1)     #Q：我们通常产生的random.randn(10),这10个数 是不是一维的---是一维的\n",
    "b1\n",
    "b1[2,0]"
   ]
  },
  {
   "cell_type": "code",
   "execution_count": 22,
   "metadata": {},
   "outputs": [
    {
     "data": {
      "text/plain": [
       "(10,)"
      ]
     },
     "execution_count": 22,
     "metadata": {},
     "output_type": "execute_result"
    }
   ],
   "source": [
    "np.random.randn(10).shape"
   ]
  },
  {
   "cell_type": "code",
   "execution_count": 4,
   "metadata": {},
   "outputs": [
    {
     "data": {
      "text/plain": [
       "array([[ 0.78284033,  0.54634223,  0.48944812]])"
      ]
     },
     "execution_count": 4,
     "metadata": {},
     "output_type": "execute_result"
    }
   ],
   "source": [
    "b2 = np.random.rand(1,3)\n",
    "b2"
   ]
  },
  {
   "cell_type": "code",
   "execution_count": 3,
   "metadata": {},
   "outputs": [
    {
     "data": {
      "text/plain": [
       "array([ 0.,  0.,  0.])"
      ]
     },
     "execution_count": 3,
     "metadata": {},
     "output_type": "execute_result"
    }
   ],
   "source": [
    "np.dot(A,x)-b        #        "
   ]
  },
  {
   "cell_type": "code",
   "execution_count": 27,
   "metadata": {},
   "outputs": [
    {
     "data": {
      "text/plain": [
       "array([[ 8.8556557 , -7.11470119,  2.62874232],\n",
       "       [-3.81641587,  1.94541313,  0.89351282],\n",
       "       [-0.61956884,  2.19828267, -1.19837389]])"
      ]
     },
     "execution_count": 27,
     "metadata": {},
     "output_type": "execute_result"
    }
   ],
   "source": [
    "c= linalg.inv(A)                         # 矩阵的逆\n",
    "c"
   ]
  },
  {
   "cell_type": "code",
   "execution_count": 28,
   "metadata": {},
   "outputs": [
    {
     "data": {
      "text/plain": [
       "array([[  1.00000000e+00,   0.00000000e+00,   0.00000000e+00],\n",
       "       [ -1.11022302e-16,   1.00000000e+00,   0.00000000e+00],\n",
       "       [  1.11022302e-16,   2.22044605e-16,   1.00000000e+00]])"
      ]
     },
     "execution_count": 28,
     "metadata": {},
     "output_type": "execute_result"
    }
   ],
   "source": [
    "d = np.dot(A,c)\n",
    "d"
   ]
  },
  {
   "cell_type": "code",
   "execution_count": 8,
   "metadata": {},
   "outputs": [
    {
     "data": {
      "text/plain": [
       "array([ 1.,  1.,  1.])"
      ]
     },
     "execution_count": 8,
     "metadata": {},
     "output_type": "execute_result"
    }
   ],
   "source": [
    "np.diag(np.dot(A,c))                     #对角矩阵"
   ]
  },
  {
   "cell_type": "code",
   "execution_count": 23,
   "metadata": {},
   "outputs": [
    {
     "data": {
      "text/plain": [
       "array([[ 0.57371021,  0.        ,  0.        ,  0.        ,  0.        ],\n",
       "       [ 0.        ,  0.03188866,  0.        ,  0.        ,  0.        ],\n",
       "       [ 0.        ,  0.        ,  0.31532375,  0.        ,  0.        ],\n",
       "       [ 0.        ,  0.        ,  0.        ,  0.62486834,  0.        ],\n",
       "       [ 0.        ,  0.        ,  0.        ,  0.        ,  0.48033117]])"
      ]
     },
     "execution_count": 23,
     "metadata": {},
     "output_type": "execute_result"
    }
   ],
   "source": [
    "np.diag(np.random.rand(5))       #用于产生对角矩阵"
   ]
  },
  {
   "cell_type": "code",
   "execution_count": 31,
   "metadata": {},
   "outputs": [
    {
     "data": {
      "text/plain": [
       "array([ 1.,  1.,  1.])"
      ]
     },
     "execution_count": 31,
     "metadata": {},
     "output_type": "execute_result"
    }
   ],
   "source": [
    "d[[0,1,2],[0,1,2]]   #检索多个的时候 ，只取出（0，0），（1，1），（2，2）三个位置的坐标"
   ]
  },
  {
   "cell_type": "code",
   "execution_count": 33,
   "metadata": {},
   "outputs": [
    {
     "data": {
      "text/plain": [
       "array([[  1.00000000e+00,   0.00000000e+00],\n",
       "       [ -1.11022302e-16,   1.00000000e+00]])"
      ]
     },
     "execution_count": 33,
     "metadata": {},
     "output_type": "execute_result"
    }
   ],
   "source": [
    "d[0:2,0:2]"
   ]
  },
  {
   "cell_type": "code",
   "execution_count": 12,
   "metadata": {},
   "outputs": [
    {
     "data": {
      "text/plain": [
       "-5.5511151231257827e-17"
      ]
     },
     "execution_count": 12,
     "metadata": {},
     "output_type": "execute_result"
    }
   ],
   "source": [
    "d[0,1]"
   ]
  },
  {
   "cell_type": "code",
   "execution_count": 14,
   "metadata": {},
   "outputs": [
    {
     "data": {
      "text/plain": [
       "array([[-0.78407229,  0.05846838, -0.64079968, -0.75304285,  1.44465844,\n",
       "         0.80850648,  0.22347163,  0.73983005],\n",
       "       [ 0.93944593,  0.32275321, -2.27554527,  0.51318994, -0.35458376,\n",
       "         1.07930303, -0.78044131, -0.52869558],\n",
       "       [-0.89478654, -0.1259341 , -0.9842288 ,  1.9278104 , -0.12971342,\n",
       "         1.11373948, -0.05827345,  1.68275478],\n",
       "       [ 0.37435197,  0.03144369,  1.48757962, -1.07549029,  0.49586028,\n",
       "         0.41483829, -0.88409833, -0.62170174],\n",
       "       [ 0.14755874, -0.06283581, -0.5360263 ,  0.14204246, -1.20871515,\n",
       "        -1.07286685,  0.96401949, -1.82262756],\n",
       "       [ 0.19892501, -1.01879463, -0.19034953, -0.86579004,  0.98656351,\n",
       "        -0.68639218, -0.29538548,  1.85395478],\n",
       "       [ 1.29888351, -0.5821897 , -1.16632804, -0.3795595 ,  0.88112998,\n",
       "        -0.45768945,  1.19943852, -0.13191909]])"
      ]
     },
     "execution_count": 14,
     "metadata": {},
     "output_type": "execute_result"
    }
   ],
   "source": [
    "a = np.random.randn(7,8)                    #Q如果取出np.random.randn(1000) 是不是就是一维的\n",
    "a"
   ]
  },
  {
   "cell_type": "code",
   "execution_count": 15,
   "metadata": {},
   "outputs": [
    {
     "data": {
      "text/plain": [
       "array([-0.86579004,  0.88112998])"
      ]
     },
     "execution_count": 15,
     "metadata": {},
     "output_type": "execute_result"
    }
   ],
   "source": [
    "a[[5,6],[3,4]]    #用来检索无规律位置的数值，取出（5，3）（6，4）位置的值，只检索（5，6）时，用a[5,6]来表示"
   ]
  },
  {
   "cell_type": "code",
   "execution_count": 17,
   "metadata": {},
   "outputs": [
    {
     "data": {
      "text/plain": [
       "(array([ 1.60698702+0.j       , -0.46991593+0.1269336j,\n",
       "        -0.46991593-0.1269336j]),\n",
       " array([[ 0.58321202+0.j        , -0.44066234-0.22085238j,\n",
       "         -0.44066234+0.22085238j],\n",
       "        [ 0.54626468+0.j        ,  0.81716094+0.j        ,  0.81716094-0.j        ],\n",
       "        [ 0.60121430+0.j        , -0.19925104+0.22268351j,\n",
       "         -0.19925104-0.22268351j]]))"
      ]
     },
     "execution_count": 17,
     "metadata": {},
     "output_type": "execute_result"
    }
   ],
   "source": [
    "linalg.eig(A)                    #针对向量（矩阵）的属性操做    求特征向量"
   ]
  },
  {
   "cell_type": "code",
   "execution_count": 16,
   "metadata": {},
   "outputs": [
    {
     "data": {
      "text/plain": [
       "[<matplotlib.lines.Line2D at 0x1ce3f456588>]"
      ]
     },
     "execution_count": 16,
     "metadata": {},
     "output_type": "execute_result"
    },
    {
     "data": {
      "image/png": "[encoded data removed]",
      "text/plain": [
       "<matplotlib.figure.Figure at 0x1ce3f3e5198>"
      ]
     },
     "metadata": {},
     "output_type": "display_data"
    }
   ],
   "source": [
    "x = np.linspace(-5,5,1000)\n",
    "def f(x):\n",
    "    return 4*x**3+(x-2)**2+x**4\n",
    "import matplotlib.pyplot as plt\n",
    "% matplotlib inline\n",
    "plt.figure(figsize=(8,6))\n",
    "plt.plot(x,f(x),\"g--\")      没有限制 是普通的图！！              #Q画柱形图是hist/话散点图是scatter/那么画直线图直接就是plot吗？？？"
   ]
  },
  {
   "cell_type": "code",
   "execution_count": 14,
   "metadata": {},
   "outputs": [
    {
     "data": {
      "text/plain": [
       "[<matplotlib.lines.Line2D at 0x23f93f8e080>]"
      ]
     },
     "execution_count": 14,
     "metadata": {},
     "output_type": "execute_result"
    },
    {
     "data": {
      "image/png": "[encoded data removed]",
      "text/plain": [
       "<matplotlib.figure.Figure at 0x23f93ea9da0>"
      ]
     },
     "metadata": {},
     "output_type": "display_data"
    }
   ],
   "source": [
    "def f(x):\n",
    "    return 4*x**3+(x-2)**2+x**4\n",
    "k = np.linspace(-5,3,100)\n",
    "y=f(k)\n",
    "import matplotlib.pyplot as plt\n",
    "%matplotlib inline\n",
    "plt.plot(k,y,\"r--\")\n",
    "plt.plot(x_min,f(x_min),\"g*\",markersize=36)"
   ]
  },
  {
   "cell_type": "code",
   "execution_count": 13,
   "metadata": {},
   "outputs": [
    {
     "name": "stdout",
     "output_type": "stream",
     "text": [
      "Optimization terminated successfully.\n",
      "         Current function value: -3.506641\n",
      "         Iterations: 5\n",
      "         Function evaluations: 30\n",
      "         Gradient evaluations: 10\n"
     ]
    },
    {
     "data": {
      "text/plain": [
       "array([-2.67298167])"
      ]
     },
     "execution_count": 13,
     "metadata": {},
     "output_type": "execute_result"
    }
   ],
   "source": [
    "from scipy import optimize\n",
    "x_min = optimize.fmin_bfgs(f,-1) #需要提供一个大概的初始值（人为主观给定的）  optimize.fmin_bfgs是一个函数名\n",
    "x_min"
   ]
  },
  {
   "cell_type": "code",
   "execution_count": 15,
   "metadata": {},
   "outputs": [
    {
     "data": {
      "text/plain": [
       "[<matplotlib.lines.Line2D at 0x23f94641e80>]"
      ]
     },
     "execution_count": 15,
     "metadata": {},
     "output_type": "execute_result"
    },
    {
     "data": {
      "image/png": "[encoded data removed]",
      "text/plain": [
       "<matplotlib.figure.Figure at 0x23f93f81128>"
      ]
     },
     "metadata": {},
     "output_type": "display_data"
    }
   ],
   "source": [
    "def f(x):\n",
    "    return (1-x**2)**0.5\n",
    "x = np.linspace(-1,1,101)\n",
    "plt.plot(x,f(x))\n",
    "\n"
   ]
  },
  {
   "cell_type": "code",
   "execution_count": 16,
   "metadata": {},
   "outputs": [
    {
     "name": "stdout",
     "output_type": "stream",
     "text": [
      "Optimization terminated successfully.\n",
      "         Current function value: -1.000000\n",
      "         Iterations: 3\n",
      "         Function evaluations: 12\n",
      "         Gradient evaluations: 4\n"
     ]
    },
    {
     "data": {
      "text/plain": [
       "array([ -8.24026160e-08])"
      ]
     },
     "execution_count": 16,
     "metadata": {},
     "output_type": "execute_result"
    }
   ],
   "source": [
    "x_max = optimize.fmin_bfgs(lambda x:-f(x),0.3)\n",
    "x_max"
   ]
  },
  {
   "cell_type": "code",
   "execution_count": 38,
   "metadata": {
    "collapsed": true
   },
   "outputs": [],
   "source": [
    "from scipy import integrate\n"
   ]
  },
  {
   "cell_type": "code",
   "execution_count": 48,
   "metadata": {},
   "outputs": [
    {
     "data": {
      "text/plain": [
       "(1.5707963267948986, 1.0002356720661965e-09)"
      ]
     },
     "execution_count": 48,
     "metadata": {},
     "output_type": "execute_result"
    }
   ],
   "source": [
    "area,error = integrate.quad(f,-1,1)                  #求面积\n",
    "area,error"
   ]
  },
  {
   "cell_type": "code",
   "execution_count": 49,
   "metadata": {},
   "outputs": [
    {
     "data": {
      "text/plain": [
       "1.7587691479210401e-17"
      ]
     },
     "execution_count": 49,
     "metadata": {},
     "output_type": "execute_result"
    }
   ],
   "source": [
    "x.mean()"
   ]
  },
  {
   "cell_type": "code",
   "execution_count": 52,
   "metadata": {},
   "outputs": [
    {
     "data": {
      "text/plain": [
       "2.007397102165585"
      ]
     },
     "execution_count": 52,
     "metadata": {},
     "output_type": "execute_result"
    }
   ],
   "source": [
    "from scipy import stats\n",
    "x= stats.norm (2,3)\n",
    "y=x.rvs(10000)\n",
    "np.mean(y)"
   ]
  },
  {
   "cell_type": "code",
   "execution_count": 53,
   "metadata": {},
   "outputs": [
    {
     "data": {
      "text/plain": [
       "[<matplotlib.lines.Line2D at 0x1ad274ff780>]"
      ]
     },
     "execution_count": 53,
     "metadata": {},
     "output_type": "execute_result"
    },
    {
     "data": {
      "image/png": "[encoded data removed]",
      "text/plain": [
       "<matplotlib.figure.Figure at 0x1ad27492c18>"
      ]
     },
     "metadata": {},
     "output_type": "display_data"
    }
   ],
   "source": [
    "a=np.arange(-10,10,0.1)\n",
    "plt.plot(a,x.pdf(a))"
   ]
  },
  {
   "cell_type": "code",
   "execution_count": null,
   "metadata": {
    "collapsed": true
   },
   "outputs": [],
   "source": []
  }
 ],
 "metadata": {
  "kernelspec": {
   "display_name": "Python 3",
   "language": "python",
   "name": "python3"
  },
  "language_info": {
   "codemirror_mode": {
    "name": "ipython",
    "version": 3
   },
   "file_extension": ".py",
   "mimetype": "text/x-python",
   "name": "python",
   "nbconvert_exporter": "python",
   "pygments_lexer": "ipython3",
   "version": "3.6.3"
  }
 },
 "nbformat": 4,
 "nbformat_minor": 2
}
